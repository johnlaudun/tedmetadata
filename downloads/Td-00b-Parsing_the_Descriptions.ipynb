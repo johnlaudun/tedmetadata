{
 "cells": [
  {
   "cell_type": "markdown",
   "metadata": {},
   "source": [
    "## Parsing the Descriptions\n",
    "\n",
    "In this notebook, we are going to parse the main pages downloaded and saved in the `descriptions` directory.\n",
    "\n",
    "Like the transcripts, we are going to use the `public_URL` as the key to merge the CSVs: we are probably going to use the `pandas` dataframe merge functionality to do this, but there may very well be something in the `csv` library. \n",
    "\n",
    "    <link rel=\"canonical\" href=\"https://www.ted.com/talks/al_gore_on_averting_climate_crisis\" />\n",
    "I can re-use the BeautifulSoup code I wrote for the transcripts to locate the `link` tag with the `rel=\"canonical\"` attribute, but I won't need to delete trailing `/transcript`.\n",
    "\n",
    "The first thing I'm going to do is to check the extant code against the new files with a small test directory of 3 files."
   ]
  },
  {
   "cell_type": "code",
   "execution_count": 1,
   "metadata": {
    "collapsed": true
   },
   "outputs": [],
   "source": [
    "# =-=-=-=-=-=-=-=-=-=-=\n",
    "# Import libraries\n",
    "# =-=-=-=-=-=-=-=-=-=-= \n",
    "import pandas, re, csv, os\n",
    "from bs4 import BeautifulSoup"
   ]
  },
  {
   "cell_type": "code",
   "execution_count": 7,
   "metadata": {
    "collapsed": true
   },
   "outputs": [],
   "source": [
    "import json"
   ]
  },
  {
   "cell_type": "code",
   "execution_count": 24,
   "metadata": {},
   "outputs": [],
   "source": [
    "# =-=-=-=-=-=-=-=-=-=-=\n",
    "# Define functions\n",
    "# =-=-=-=-=-=-=-=-=-=-= \n",
    "\n",
    "def get_description(thesoup):\n",
    "    # This is the most normal part of this function: it follows BS4 methodology strictly.\n",
    "    public_URL = thesoup.find(\"link\", {'rel': 'canonical'})['href']\n",
    "    # The data we want is wrapped inside a script tag and is not formatted in a way\n",
    "    # that BS4 understands. This is a list comprehension that will then allow us to \n",
    "    # create a JSON object from which we can readily call the data we want\n",
    "    my_list = [i.string.lstrip('q(\"talkPage.init\", {\\n\\t\"el\": \"[data-talk-page]\",\\n\\t \"__INITIAL_DATA__\":')\n",
    "           .rstrip('})')\n",
    "           for i in thesoup.select('script') \n",
    "           if i.string and i.string.startswith('q')]\n",
    "    # One line of kinda ugly code to turn the list into a json object\n",
    "    the_json = json.loads('{\"' + \"\".join(my_list))\n",
    "\n",
    "    talk_id = the_json['current_talk']\n",
    "    description = the_json['description']\n",
    "    views = the_json['viewed_count']\n",
    "    event = the_json['event']\n",
    "    return public_URL, talk_id, description, views, event\n",
    "\n",
    "def to_csv(the_path, out):\n",
    "    # open file to write to.\n",
    "    with open(out, \"w\") as out:\n",
    "        # create csv.writer. \n",
    "        wr = csv.writer(out)\n",
    "        # write our headers.\n",
    "        wr.writerow([\"public_URL\", \"talk_id\", \"description\", \"views\", \"event\"])\n",
    "        # get all our html files.\n",
    "        for the_file in os.listdir(the_path):\n",
    "            with open(os.path.join(the_path, the_file)) as f:\n",
    "                # parse the file and write the data to a row.\n",
    "                wr.writerow(get_description(BeautifulSoup(f, \"html5lib\")))"
   ]
  },
  {
   "cell_type": "code",
   "execution_count": 25,
   "metadata": {},
   "outputs": [],
   "source": [
    "# =-=-=-=-=-=-=-=-=-=-=\n",
    "# Write the CSV\n",
    "# =-=-=-=-=-=-=-=-=-=-= \n",
    "\n",
    "to_csv(\"./test_descriptions\",\"test_descriptions.csv\")"
   ]
  },
  {
   "cell_type": "code",
   "execution_count": 27,
   "metadata": {},
   "outputs": [
    {
     "data": {
      "text/html": [
       "<div>\n",
       "<table border=\"1\" class=\"dataframe\">\n",
       "  <thead>\n",
       "    <tr style=\"text-align: right;\">\n",
       "      <th></th>\n",
       "      <th>public_URL</th>\n",
       "      <th>talk_id</th>\n",
       "      <th>description</th>\n",
       "      <th>views</th>\n",
       "      <th>event</th>\n",
       "    </tr>\n",
       "  </thead>\n",
       "  <tbody>\n",
       "    <tr>\n",
       "      <th>0</th>\n",
       "      <td>public_URL</td>\n",
       "      <td>talk_id</td>\n",
       "      <td>description</td>\n",
       "      <td>views</td>\n",
       "      <td>event</td>\n",
       "    </tr>\n",
       "    <tr>\n",
       "      <th>1</th>\n",
       "      <td>https://www.ted.com/talks/a_j_jacobs_year_of_l...</td>\n",
       "      <td>301</td>\n",
       "      <td>Author, philosopher, prankster and journalist ...</td>\n",
       "      <td>2598301</td>\n",
       "      <td>EG 2007</td>\n",
       "    </tr>\n",
       "    <tr>\n",
       "      <th>2</th>\n",
       "      <td>https://www.ted.com/talks/a_choir_as_big_as_th...</td>\n",
       "      <td>832</td>\n",
       "      <td>185 voices from 12 countries join a choir that...</td>\n",
       "      <td>402529</td>\n",
       "      <td>Eric Whitacre's Virtual Choir</td>\n",
       "    </tr>\n",
       "    <tr>\n",
       "      <th>3</th>\n",
       "      <td>https://www.ted.com/talks/9_11_healing_the_mot...</td>\n",
       "      <td>1136</td>\n",
       "      <td>Phyllis Rodriguez and Aicha el-Wafi have a pow...</td>\n",
       "      <td>879798</td>\n",
       "      <td>TEDWomen 2010</td>\n",
       "    </tr>\n",
       "  </tbody>\n",
       "</table>\n",
       "</div>"
      ],
      "text/plain": [
       "                                          public_URL  talk_id  \\\n",
       "0                                         public_URL  talk_id   \n",
       "1  https://www.ted.com/talks/a_j_jacobs_year_of_l...      301   \n",
       "2  https://www.ted.com/talks/a_choir_as_big_as_th...      832   \n",
       "3  https://www.ted.com/talks/9_11_healing_the_mot...     1136   \n",
       "\n",
       "                                         description    views  \\\n",
       "0                                        description    views   \n",
       "1  Author, philosopher, prankster and journalist ...  2598301   \n",
       "2  185 voices from 12 countries join a choir that...   402529   \n",
       "3  Phyllis Rodriguez and Aicha el-Wafi have a pow...   879798   \n",
       "\n",
       "                           event  \n",
       "0                          event  \n",
       "1                        EG 2007  \n",
       "2  Eric Whitacre's Virtual Choir  \n",
       "3                  TEDWomen 2010  "
      ]
     },
     "execution_count": 27,
     "metadata": {},
     "output_type": "execute_result"
    }
   ],
   "source": [
    "# =-=-=-=-=-=-=-=-=-=-=\n",
    "# LOAD the CSV into a Pandas dataframe to check our work\n",
    "# =-=-=-=-=-=-=-=-=-=-= \n",
    "\n",
    "# Let python create the column names list:\n",
    "with open('./test_descriptions.csv') as f:\n",
    "    colnames = f.readline().strip().split(\",\")\n",
    "\n",
    "# Now will import the csv as a dataframe with the column names specified\n",
    "TEDtalks = pandas.read_csv('./test_descriptions.csv', names=colnames)\n",
    "\n",
    "# Check for success:\n",
    "TEDtalks.head()"
   ]
  },
  {
   "cell_type": "code",
   "execution_count": 28,
   "metadata": {},
   "outputs": [
    {
     "ename": "TypeError",
     "evalue": "'NoneType' object is not subscriptable",
     "output_type": "error",
     "traceback": [
      "\u001b[0;31m---------------------------------------------------------------------------\u001b[0m",
      "\u001b[0;31mTypeError\u001b[0m                                 Traceback (most recent call last)",
      "\u001b[0;32m<ipython-input-28-ee3038ea57b6>\u001b[0m in \u001b[0;36m<module>\u001b[0;34m()\u001b[0m\n\u001b[0;32m----> 1\u001b[0;31m \u001b[0mto_csv\u001b[0m\u001b[0;34m(\u001b[0m\u001b[0;34m\"./descriptions\"\u001b[0m\u001b[0;34m,\u001b[0m\u001b[0;34m\"descriptions.csv\"\u001b[0m\u001b[0;34m)\u001b[0m\u001b[0;34m\u001b[0m\u001b[0m\n\u001b[0m",
      "\u001b[0;32m<ipython-input-24-79f3e39f5bd5>\u001b[0m in \u001b[0;36mto_csv\u001b[0;34m(the_path, out)\u001b[0m\n\u001b[1;32m     33\u001b[0m             \u001b[0;32mwith\u001b[0m \u001b[0mopen\u001b[0m\u001b[0;34m(\u001b[0m\u001b[0mos\u001b[0m\u001b[0;34m.\u001b[0m\u001b[0mpath\u001b[0m\u001b[0;34m.\u001b[0m\u001b[0mjoin\u001b[0m\u001b[0;34m(\u001b[0m\u001b[0mthe_path\u001b[0m\u001b[0;34m,\u001b[0m \u001b[0mthe_file\u001b[0m\u001b[0;34m)\u001b[0m\u001b[0;34m)\u001b[0m \u001b[0;32mas\u001b[0m \u001b[0mf\u001b[0m\u001b[0;34m:\u001b[0m\u001b[0;34m\u001b[0m\u001b[0m\n\u001b[1;32m     34\u001b[0m                 \u001b[0;31m# parse the file and write the data to a row.\u001b[0m\u001b[0;34m\u001b[0m\u001b[0;34m\u001b[0m\u001b[0m\n\u001b[0;32m---> 35\u001b[0;31m                 \u001b[0mwr\u001b[0m\u001b[0;34m.\u001b[0m\u001b[0mwriterow\u001b[0m\u001b[0;34m(\u001b[0m\u001b[0mget_description\u001b[0m\u001b[0;34m(\u001b[0m\u001b[0mBeautifulSoup\u001b[0m\u001b[0;34m(\u001b[0m\u001b[0mf\u001b[0m\u001b[0;34m,\u001b[0m \u001b[0;34m\"html5lib\"\u001b[0m\u001b[0;34m)\u001b[0m\u001b[0;34m)\u001b[0m\u001b[0;34m)\u001b[0m\u001b[0;34m\u001b[0m\u001b[0m\n\u001b[0m",
      "\u001b[0;32m<ipython-input-24-79f3e39f5bd5>\u001b[0m in \u001b[0;36mget_description\u001b[0;34m(thesoup)\u001b[0m\n\u001b[1;32m      5\u001b[0m \u001b[0;32mdef\u001b[0m \u001b[0mget_description\u001b[0m\u001b[0;34m(\u001b[0m\u001b[0mthesoup\u001b[0m\u001b[0;34m)\u001b[0m\u001b[0;34m:\u001b[0m\u001b[0;34m\u001b[0m\u001b[0m\n\u001b[1;32m      6\u001b[0m     \u001b[0;31m# This is the most normal part of this function: it follows BS4 methodology strictly.\u001b[0m\u001b[0;34m\u001b[0m\u001b[0;34m\u001b[0m\u001b[0m\n\u001b[0;32m----> 7\u001b[0;31m     \u001b[0mpublic_URL\u001b[0m \u001b[0;34m=\u001b[0m \u001b[0mthesoup\u001b[0m\u001b[0;34m.\u001b[0m\u001b[0mfind\u001b[0m\u001b[0;34m(\u001b[0m\u001b[0;34m\"link\"\u001b[0m\u001b[0;34m,\u001b[0m \u001b[0;34m{\u001b[0m\u001b[0;34m'rel'\u001b[0m\u001b[0;34m:\u001b[0m \u001b[0;34m'canonical'\u001b[0m\u001b[0;34m}\u001b[0m\u001b[0;34m)\u001b[0m\u001b[0;34m[\u001b[0m\u001b[0;34m'href'\u001b[0m\u001b[0;34m]\u001b[0m\u001b[0;34m\u001b[0m\u001b[0m\n\u001b[0m\u001b[1;32m      8\u001b[0m     \u001b[0;31m# The data we want is wrapped inside a script tag and is not formatted in a way\u001b[0m\u001b[0;34m\u001b[0m\u001b[0;34m\u001b[0m\u001b[0m\n\u001b[1;32m      9\u001b[0m     \u001b[0;31m# that BS4 understands. This is a list comprehension that will then allow us to\u001b[0m\u001b[0;34m\u001b[0m\u001b[0;34m\u001b[0m\u001b[0m\n",
      "\u001b[0;31mTypeError\u001b[0m: 'NoneType' object is not subscriptable"
     ]
    }
   ],
   "source": [
    "to_csv(\"./descriptions\",\"descriptions.csv\")"
   ]
  }
 ],
 "metadata": {
  "kernelspec": {
   "display_name": "Python 3",
   "language": "python",
   "name": "python3"
  },
  "language_info": {
   "codemirror_mode": {
    "name": "ipython",
    "version": 3
   },
   "file_extension": ".py",
   "mimetype": "text/x-python",
   "name": "python",
   "nbconvert_exporter": "python",
   "pygments_lexer": "ipython3",
   "version": "3.4.8"
  }
 },
 "nbformat": 4,
 "nbformat_minor": 2
}
