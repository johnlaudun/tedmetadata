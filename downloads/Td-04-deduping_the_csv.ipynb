{
 "cells": [
  {
   "cell_type": "markdown",
   "metadata": {},
   "source": [
    "## De-Duping the CSV\n",
    "\n",
    "In order to make sure that the data in the original Google sheet was correct, we kept more columns than we needed. In this notebook, we are going to examine the columns in the \"one to rule them all\" notebook and decide which columns can be deleted. The original merged notebook we will be unaffected as we will be working with a duplicate file."
   ]
  },
  {
   "cell_type": "code",
   "execution_count": 2,
   "metadata": {},
   "outputs": [
    {
     "data": {
      "text/html": [
       "<div>\n",
       "<table border=\"1\" class=\"dataframe\">\n",
       "  <thead>\n",
       "    <tr style=\"text-align: right;\">\n",
       "      <th></th>\n",
       "      <th>Talk ID</th>\n",
       "      <th>public_url</th>\n",
       "      <th>speaker_name</th>\n",
       "      <th>headline</th>\n",
       "      <th>description_x</th>\n",
       "      <th>event</th>\n",
       "      <th>duration_x</th>\n",
       "      <th>language</th>\n",
       "      <th>published</th>\n",
       "      <th>tags</th>\n",
       "      <th>speaker</th>\n",
       "      <th>duration_y</th>\n",
       "      <th>uploaded</th>\n",
       "      <th>views</th>\n",
       "      <th>description_y</th>\n",
       "      <th>text</th>\n",
       "    </tr>\n",
       "  </thead>\n",
       "  <tbody>\n",
       "    <tr>\n",
       "      <th>0</th>\n",
       "      <td>Talk ID</td>\n",
       "      <td>public_url</td>\n",
       "      <td>speaker_name</td>\n",
       "      <td>headline</td>\n",
       "      <td>description_x</td>\n",
       "      <td>event</td>\n",
       "      <td>duration_x</td>\n",
       "      <td>language</td>\n",
       "      <td>published</td>\n",
       "      <td>tags</td>\n",
       "      <td>speaker</td>\n",
       "      <td>duration_y</td>\n",
       "      <td>uploaded</td>\n",
       "      <td>views</td>\n",
       "      <td>description_y</td>\n",
       "      <td>text</td>\n",
       "    </tr>\n",
       "    <tr>\n",
       "      <th>1</th>\n",
       "      <td>1</td>\n",
       "      <td>https://www.ted.com/talks/al_gore_on_averting_...</td>\n",
       "      <td>Al Gore</td>\n",
       "      <td>Averting the climate crisis</td>\n",
       "      <td>With the same humor and humanity he exuded in ...</td>\n",
       "      <td>TED2006</td>\n",
       "      <td>0:16:17</td>\n",
       "      <td>en</td>\n",
       "      <td>6/27/06</td>\n",
       "      <td>alternative energy,cars,global issues,climate ...</td>\n",
       "      <td>Al Gore</td>\n",
       "      <td>PT16M17S</td>\n",
       "      <td>2006-06-27T00:11:00+00:00</td>\n",
       "      <td>3266733</td>\n",
       "      <td>With the same humor and humanity he exuded in ...</td>\n",
       "      <td>Thank you so much, Chris. And it's truly a g...</td>\n",
       "    </tr>\n",
       "    <tr>\n",
       "      <th>2</th>\n",
       "      <td>7</td>\n",
       "      <td>https://www.ted.com/talks/david_pogue_says_sim...</td>\n",
       "      <td>David Pogue</td>\n",
       "      <td>Simplicity sells</td>\n",
       "      <td>New York Times columnist David Pogue takes aim...</td>\n",
       "      <td>TED2006</td>\n",
       "      <td>0:21:26</td>\n",
       "      <td>en</td>\n",
       "      <td>6/27/06</td>\n",
       "      <td>simplicity,entertainment,interface design,soft...</td>\n",
       "      <td>David Pogue</td>\n",
       "      <td>PT21M26S</td>\n",
       "      <td>2006-06-27T00:11:00+00:00</td>\n",
       "      <td>1702201</td>\n",
       "      <td>New York Times columnist David Pogue takes aim...</td>\n",
       "      <td>(Music: \"The Sound of Silence,\" Simon &amp; Garf...</td>\n",
       "    </tr>\n",
       "    <tr>\n",
       "      <th>3</th>\n",
       "      <td>53</td>\n",
       "      <td>https://www.ted.com/talks/majora_carter_s_tale...</td>\n",
       "      <td>Majora Carter</td>\n",
       "      <td>Greening the ghetto</td>\n",
       "      <td>In an emotionally charged talk, MacArthur-winn...</td>\n",
       "      <td>TED2006</td>\n",
       "      <td>0:18:36</td>\n",
       "      <td>en</td>\n",
       "      <td>6/27/06</td>\n",
       "      <td>MacArthur grant,cities,green,activism,politics...</td>\n",
       "      <td>Majora Carter</td>\n",
       "      <td>PT18M36S</td>\n",
       "      <td>2006-06-27T00:11:00+00:00</td>\n",
       "      <td>2000421</td>\n",
       "      <td>In an emotionally charged talk, MacArthur-winn...</td>\n",
       "      <td>If you're here today — and I'm very happy th...</td>\n",
       "    </tr>\n",
       "    <tr>\n",
       "      <th>4</th>\n",
       "      <td>66</td>\n",
       "      <td>https://www.ted.com/talks/ken_robinson_says_sc...</td>\n",
       "      <td>Ken Robinson</td>\n",
       "      <td>Do schools kill creativity?</td>\n",
       "      <td>Sir Ken Robinson makes an entertaining and pro...</td>\n",
       "      <td>TED2006</td>\n",
       "      <td>0:19:24</td>\n",
       "      <td>en</td>\n",
       "      <td>6/27/06</td>\n",
       "      <td>children,teaching,creativity,parenting,culture...</td>\n",
       "      <td>Ken Robinson</td>\n",
       "      <td>PT19M24S</td>\n",
       "      <td>2006-06-27T00:11:00+00:00</td>\n",
       "      <td>51614087</td>\n",
       "      <td>Sir Ken Robinson makes an entertaining and pro...</td>\n",
       "      <td>Good morning. How are you?    (Laughter)    ...</td>\n",
       "    </tr>\n",
       "    <tr>\n",
       "      <th>5</th>\n",
       "      <td>92</td>\n",
       "      <td>https://www.ted.com/talks/hans_rosling_shows_t...</td>\n",
       "      <td>Hans Rosling</td>\n",
       "      <td>The best stats you've ever seen</td>\n",
       "      <td>You've never seen data presented like this. Wi...</td>\n",
       "      <td>TED2006</td>\n",
       "      <td>0:19:50</td>\n",
       "      <td>en</td>\n",
       "      <td>6/27/06</td>\n",
       "      <td>demo,Asia,global issues,visualizations,global ...</td>\n",
       "      <td>Hans Rosling</td>\n",
       "      <td>PT19M50S</td>\n",
       "      <td>2006-06-27T20:38:00+00:00</td>\n",
       "      <td>12662135</td>\n",
       "      <td>You've never seen data presented like this. Wi...</td>\n",
       "      <td>About 10 years ago, I took on the task to te...</td>\n",
       "    </tr>\n",
       "    <tr>\n",
       "      <th>6</th>\n",
       "      <td>96</td>\n",
       "      <td>https://www.ted.com/talks/tony_robbins_asks_wh...</td>\n",
       "      <td>Tony Robbins</td>\n",
       "      <td>Why we do what we do</td>\n",
       "      <td>Tony Robbins discusses the \"invisible forces\" ...</td>\n",
       "      <td>TED2006</td>\n",
       "      <td>0:21:45</td>\n",
       "      <td>en</td>\n",
       "      <td>6/27/06</td>\n",
       "      <td>entertainment,goal-setting,potential,psycholog...</td>\n",
       "      <td>Tony Robbins</td>\n",
       "      <td>PT21M45S</td>\n",
       "      <td>2006-06-27T20:38:00+00:00</td>\n",
       "      <td>22368699</td>\n",
       "      <td>Tony Robbins discusses the \"invisible forces\" ...</td>\n",
       "      <td>Thank you. I have to tell you I'm both chall...</td>\n",
       "    </tr>\n",
       "    <tr>\n",
       "      <th>7</th>\n",
       "      <td>49</td>\n",
       "      <td>https://www.ted.com/talks/joshua_prince_ramus_...</td>\n",
       "      <td>Joshua Prince-Ramus</td>\n",
       "      <td>Behind the design of Seattle's library</td>\n",
       "      <td>Architect Joshua Prince-Ramus takes the audien...</td>\n",
       "      <td>TED2006</td>\n",
       "      <td>0:19:58</td>\n",
       "      <td>en</td>\n",
       "      <td>7/10/06</td>\n",
       "      <td>library,architecture,design,culture,collaboration</td>\n",
       "      <td>Joshua Prince-Ramus</td>\n",
       "      <td>PT19M58S</td>\n",
       "      <td>2006-07-10T00:11:00+00:00</td>\n",
       "      <td>1042335</td>\n",
       "      <td>Architect Joshua Prince-Ramus takes the audien...</td>\n",
       "      <td>I'm going to present three projects in rapid...</td>\n",
       "    </tr>\n",
       "    <tr>\n",
       "      <th>8</th>\n",
       "      <td>86</td>\n",
       "      <td>https://www.ted.com/talks/julia_sweeney_on_let...</td>\n",
       "      <td>Julia Sweeney</td>\n",
       "      <td>Letting go of God</td>\n",
       "      <td>When two young Mormon missionaries knock on Ju...</td>\n",
       "      <td>TED2006</td>\n",
       "      <td>0:16:32</td>\n",
       "      <td>en</td>\n",
       "      <td>7/10/06</td>\n",
       "      <td>atheism,Christianity,religion,God,comedy,humor...</td>\n",
       "      <td>Julia Sweeney</td>\n",
       "      <td>PT16M32S</td>\n",
       "      <td>2006-07-10T00:11:00+00:00</td>\n",
       "      <td>3903747</td>\n",
       "      <td>When two young Mormon missionaries knock on Ju...</td>\n",
       "      <td>On September 10, the morning of my seventh b...</td>\n",
       "    </tr>\n",
       "    <tr>\n",
       "      <th>9</th>\n",
       "      <td>71</td>\n",
       "      <td>https://www.ted.com/talks/rick_warren_on_a_lif...</td>\n",
       "      <td>Rick Warren</td>\n",
       "      <td>A life of purpose</td>\n",
       "      <td>Pastor Rick Warren, author of \"The Purpose-Dri...</td>\n",
       "      <td>TED2006</td>\n",
       "      <td>0:21:02</td>\n",
       "      <td>en</td>\n",
       "      <td>7/18/06</td>\n",
       "      <td>Christianity,philanthropy,religion,God,happine...</td>\n",
       "      <td>Rick Warren</td>\n",
       "      <td>PT21M2S</td>\n",
       "      <td>2006-07-18T00:11:00+00:00</td>\n",
       "      <td>3361934</td>\n",
       "      <td>Pastor Rick Warren, author of \"The Purpose-Dri...</td>\n",
       "      <td>I'm often asked, \"What surprised you about t...</td>\n",
       "    </tr>\n",
       "  </tbody>\n",
       "</table>\n",
       "</div>"
      ],
      "text/plain": [
       "   Talk ID                                         public_url  \\\n",
       "0  Talk ID                                         public_url   \n",
       "1        1  https://www.ted.com/talks/al_gore_on_averting_...   \n",
       "2        7  https://www.ted.com/talks/david_pogue_says_sim...   \n",
       "3       53  https://www.ted.com/talks/majora_carter_s_tale...   \n",
       "4       66  https://www.ted.com/talks/ken_robinson_says_sc...   \n",
       "5       92  https://www.ted.com/talks/hans_rosling_shows_t...   \n",
       "6       96  https://www.ted.com/talks/tony_robbins_asks_wh...   \n",
       "7       49  https://www.ted.com/talks/joshua_prince_ramus_...   \n",
       "8       86  https://www.ted.com/talks/julia_sweeney_on_let...   \n",
       "9       71  https://www.ted.com/talks/rick_warren_on_a_lif...   \n",
       "\n",
       "          speaker_name                                headline  \\\n",
       "0         speaker_name                                headline   \n",
       "1              Al Gore             Averting the climate crisis   \n",
       "2          David Pogue                        Simplicity sells   \n",
       "3        Majora Carter                     Greening the ghetto   \n",
       "4         Ken Robinson             Do schools kill creativity?   \n",
       "5         Hans Rosling         The best stats you've ever seen   \n",
       "6         Tony Robbins                    Why we do what we do   \n",
       "7  Joshua Prince-Ramus  Behind the design of Seattle's library   \n",
       "8        Julia Sweeney                       Letting go of God   \n",
       "9          Rick Warren                       A life of purpose   \n",
       "\n",
       "                                       description_x    event  duration_x  \\\n",
       "0                                      description_x    event  duration_x   \n",
       "1  With the same humor and humanity he exuded in ...  TED2006     0:16:17   \n",
       "2  New York Times columnist David Pogue takes aim...  TED2006     0:21:26   \n",
       "3  In an emotionally charged talk, MacArthur-winn...  TED2006     0:18:36   \n",
       "4  Sir Ken Robinson makes an entertaining and pro...  TED2006     0:19:24   \n",
       "5  You've never seen data presented like this. Wi...  TED2006     0:19:50   \n",
       "6  Tony Robbins discusses the \"invisible forces\" ...  TED2006     0:21:45   \n",
       "7  Architect Joshua Prince-Ramus takes the audien...  TED2006     0:19:58   \n",
       "8  When two young Mormon missionaries knock on Ju...  TED2006     0:16:32   \n",
       "9  Pastor Rick Warren, author of \"The Purpose-Dri...  TED2006     0:21:02   \n",
       "\n",
       "   language  published                                               tags  \\\n",
       "0  language  published                                               tags   \n",
       "1        en    6/27/06  alternative energy,cars,global issues,climate ...   \n",
       "2        en    6/27/06  simplicity,entertainment,interface design,soft...   \n",
       "3        en    6/27/06  MacArthur grant,cities,green,activism,politics...   \n",
       "4        en    6/27/06  children,teaching,creativity,parenting,culture...   \n",
       "5        en    6/27/06  demo,Asia,global issues,visualizations,global ...   \n",
       "6        en    6/27/06  entertainment,goal-setting,potential,psycholog...   \n",
       "7        en    7/10/06  library,architecture,design,culture,collaboration   \n",
       "8        en    7/10/06  atheism,Christianity,religion,God,comedy,humor...   \n",
       "9        en    7/18/06  Christianity,philanthropy,religion,God,happine...   \n",
       "\n",
       "               speaker  duration_y                   uploaded     views  \\\n",
       "0              speaker  duration_y                   uploaded     views   \n",
       "1              Al Gore    PT16M17S  2006-06-27T00:11:00+00:00   3266733   \n",
       "2          David Pogue    PT21M26S  2006-06-27T00:11:00+00:00   1702201   \n",
       "3        Majora Carter    PT18M36S  2006-06-27T00:11:00+00:00   2000421   \n",
       "4         Ken Robinson    PT19M24S  2006-06-27T00:11:00+00:00  51614087   \n",
       "5         Hans Rosling    PT19M50S  2006-06-27T20:38:00+00:00  12662135   \n",
       "6         Tony Robbins    PT21M45S  2006-06-27T20:38:00+00:00  22368699   \n",
       "7  Joshua Prince-Ramus    PT19M58S  2006-07-10T00:11:00+00:00   1042335   \n",
       "8        Julia Sweeney    PT16M32S  2006-07-10T00:11:00+00:00   3903747   \n",
       "9          Rick Warren     PT21M2S  2006-07-18T00:11:00+00:00   3361934   \n",
       "\n",
       "                                       description_y  \\\n",
       "0                                      description_y   \n",
       "1  With the same humor and humanity he exuded in ...   \n",
       "2  New York Times columnist David Pogue takes aim...   \n",
       "3  In an emotionally charged talk, MacArthur-winn...   \n",
       "4  Sir Ken Robinson makes an entertaining and pro...   \n",
       "5  You've never seen data presented like this. Wi...   \n",
       "6  Tony Robbins discusses the \"invisible forces\" ...   \n",
       "7  Architect Joshua Prince-Ramus takes the audien...   \n",
       "8  When two young Mormon missionaries knock on Ju...   \n",
       "9  Pastor Rick Warren, author of \"The Purpose-Dri...   \n",
       "\n",
       "                                                text  \n",
       "0                                               text  \n",
       "1    Thank you so much, Chris. And it's truly a g...  \n",
       "2    (Music: \"The Sound of Silence,\" Simon & Garf...  \n",
       "3    If you're here today — and I'm very happy th...  \n",
       "4    Good morning. How are you?    (Laughter)    ...  \n",
       "5    About 10 years ago, I took on the task to te...  \n",
       "6    Thank you. I have to tell you I'm both chall...  \n",
       "7    I'm going to present three projects in rapid...  \n",
       "8    On September 10, the morning of my seventh b...  \n",
       "9    I'm often asked, \"What surprised you about t...  "
      ]
     },
     "execution_count": 2,
     "metadata": {},
     "output_type": "execute_result"
    }
   ],
   "source": [
    "# =-=-=-=-=-=-=-=-=-=-=\n",
    "# LOAD the CSV into a dataframe\n",
    "# =-=-=-=-=-=-=-=-=-=-= \n",
    "\n",
    "import pandas\n",
    "\n",
    "# Let python create the column names list:\n",
    "with open('./TEDtalks_2018_edited.csv') as f:\n",
    "    colnames = f.readline().strip().split(\",\")\n",
    "\n",
    "df = pandas.read_csv('./TEDtalks_2018_edited.csv', names=colnames)\n",
    "\n",
    "df.head(10)"
   ]
  },
  {
   "cell_type": "markdown",
   "metadata": {},
   "source": [
    "Okay, I'm not sure why we are seeing `NaN` in the 6 rightmost columns above: speaker, duration, uploaded, views, description, text. They are displaying properly in the Jupyter Lab CSV viewer. Viewing them in the JL editor -- *hey! same initials as me!*, it looks like they were not wrapped in quotations marks making them strings. So, now the question is whether we edit the CSV file or simply re-generate the merged file. (I think the latter may be simpler.)\n",
    "\n",
    "**SOLUTION**: `NaN` was appearing because I had copied and pasted code and had the wrong `CSV` in `pandas.read_csv()`."
   ]
  },
  {
   "cell_type": "markdown",
   "metadata": {
    "collapsed": true
   },
   "source": [
    "### Comparing Columns\n",
    "\n",
    "We know that some of the columns are duplicates. We need to assess each set of possible duplicates. First, a quick reminder of all the columns involved, then some exploration of the differences involved: it looks like, for example, the descriptions drawn from the Google document have had fancier punctuation -- e.g., smart quotes and em dashes -- replaced. This matters little, so differences here are trivial: but it would help to establish this by removing punctuation and comparing just the words. \n",
    "\n",
    "Some of the early work on comparing texts revisited old methods, including the NLTK's white space tokenizer, but none of them got rid of the en or em dash in my example. (So it was a good example for having that persistent problem.)\n",
    "\n",
    "```python\n",
    "    import string\n",
    "    table = str.maketrans({key: key for key in string.punctuation})\n",
    "    print(df['description_y'][6].translate(table))\n",
    "    \n",
    "    import re\n",
    "    regex = re.compile('[%s]' % re.escape(string.punctuation))\n",
    "    print(regex.sub('', df['description_y'][6].translate(table)))\n",
    "\n",
    "    from nltk.tokenize import WhitespaceTokenizer\n",
    "    print(WhitespaceTokenizer().tokenize(df['description_y'][6]))\n",
    "```\n",
    "    \n",
    "Regexing got tricky. Here's what I tried:\n",
    "\n",
    "* `r'[^\\w\\s]'`: **failed** by removing the hyphen in \"high-five\".\n",
    "* `r'[^-\\w]+'`: **failed** by removing the hyphen in \"high-five\".\n",
    "* `r'(?:(?!-)\\W)+'`: **passed**"
   ]
  },
  {
   "cell_type": "code",
   "execution_count": 3,
   "metadata": {
    "scrolled": true
   },
   "outputs": [
    {
     "name": "stdout",
     "output_type": "stream",
     "text": [
      "['Talk ID', 'public_url', 'speaker_name', 'headline', 'description_x', 'event', 'duration_x', 'language', 'published', 'tags', 'speaker', 'duration_y', 'uploaded', 'views', 'description_y', 'text']\n"
     ]
    }
   ],
   "source": [
    "print(colnames)"
   ]
  },
  {
   "cell_type": "code",
   "execution_count": 21,
   "metadata": {},
   "outputs": [
    {
     "name": "stdout",
     "output_type": "stream",
     "text": [
      "True\n",
      "Sir Ken Robinson makes an entertaining and profoundly moving case for creating an education system that nurtures (rather than undermines) creativity.\n",
      "Sir Ken Robinson makes an entertaining and profoundly moving case for creating an education system that nurtures (rather than undermines) creativity.\n"
     ]
    }
   ],
   "source": [
    "row = 4\n",
    "print(df['description_x'][row] == df['description_y'][row])\n",
    "print(df['description_x'][row] + \"\\n\" + df['description_y'][row])"
   ]
  },
  {
   "cell_type": "code",
   "execution_count": 23,
   "metadata": {
    "scrolled": true
   },
   "outputs": [
    {
     "name": "stdout",
     "output_type": "stream",
     "text": [
      "False\n",
      "Tony Robbins discusses the \"invisible forces\" that motivate everyone's actions -- and high-fives Al Gore in the front row.\n",
      "Tony Robbins discusses the \"invisible forces\" that motivate everyone's actions — and high-fives Al Gore in the front row.\n"
     ]
    }
   ],
   "source": [
    "row = 6\n",
    "print(df['description_x'][row] == df['description_y'][row])\n",
    "print(df['description_x'][row] + \"\\n\" + df['description_y'][row])"
   ]
  },
  {
   "cell_type": "code",
   "execution_count": 56,
   "metadata": {
    "collapsed": true
   },
   "outputs": [],
   "source": [
    "import re\n",
    "\n",
    "def keep_hyphens(text):\n",
    "    return re.sub(r'(?:(?!-)\\W)+', ' ', text)"
   ]
  },
  {
   "cell_type": "code",
   "execution_count": 53,
   "metadata": {},
   "outputs": [
    {
     "name": "stdout",
     "output_type": "stream",
     "text": [
      "Tony Robbins discusses the invisible forces that motivate everyone s actions and high-fives Al Gore in the front row \n"
     ]
    }
   ],
   "source": [
    "print(re.sub(r'(?:(?!-)\\W)+', ' ', df['description_y'][6]))"
   ]
  },
  {
   "cell_type": "code",
   "execution_count": 59,
   "metadata": {},
   "outputs": [
    {
     "name": "stdout",
     "output_type": "stream",
     "text": [
      "False\n",
      "Tony Robbins discusses the invisible forces that motivate everyone s actions -- and high-fives Al Gore in the front row \n",
      "Tony Robbins discusses the invisible forces that motivate everyone s actions and high-fives Al Gore in the front row \n"
     ]
    }
   ],
   "source": [
    "row = 6\n",
    "print(keep_hyphens(df['description_x'][row]) == keep_hyphens(df['description_y'][row]))\n",
    "print(keep_hyphens(df['description_x'][row]) + \"\\n\" + keep_hyphens(df['description_y'][row]))"
   ]
  },
  {
   "cell_type": "code",
   "execution_count": 5,
   "metadata": {},
   "outputs": [],
   "source": [
    "import numpy as np\n",
    "\n",
    "different = np.where(df['description_x'] != df['description_y'])\n",
    "\n",
    "high_scores1['is_score_chased'] = np.where(high_scores1['runs1']>=high_scores1['runs2'], \n",
    "                                           'yes', 'no')"
   ]
  },
  {
   "cell_type": "code",
   "execution_count": 10,
   "metadata": {},
   "outputs": [
    {
     "name": "stdout",
     "output_type": "stream",
     "text": [
      "(array([   0,    2,    3, ..., 2683, 2684, 2686]),)\n"
     ]
    }
   ],
   "source": [
    "print(different)"
   ]
  },
  {
   "cell_type": "code",
   "execution_count": null,
   "metadata": {
    "collapsed": true
   },
   "outputs": [],
   "source": [
    "for row in df:\n",
    "    if column_a != column_b\n",
    "    print(row_id)"
   ]
  },
  {
   "cell_type": "code",
   "execution_count": null,
   "metadata": {
    "collapsed": true
   },
   "outputs": [],
   "source": []
  }
 ],
 "metadata": {
  "kernelspec": {
   "display_name": "Python 3",
   "language": "python",
   "name": "python3"
  },
  "language_info": {
   "codemirror_mode": {
    "name": "ipython",
    "version": 3
   },
   "file_extension": ".py",
   "mimetype": "text/x-python",
   "name": "python",
   "nbconvert_exporter": "python",
   "pygments_lexer": "ipython3",
   "version": "3.4.8"
  }
 },
 "nbformat": 4,
 "nbformat_minor": 2
}
