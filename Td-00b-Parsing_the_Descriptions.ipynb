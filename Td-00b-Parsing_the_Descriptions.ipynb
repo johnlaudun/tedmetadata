{
 "cells": [
  {
   "cell_type": "markdown",
   "metadata": {},
   "source": [
    "## Parsing the Descriptions\n",
    "\n",
    "In this notebook, we are going to parse the main pages downloaded and saved in the `descriptions` directory."
   ]
  },
  {
   "cell_type": "markdown",
   "metadata": {},
   "source": [
    "In order to facilitate a merge, I need to elicit a **key** that these files share with other CSVs. I think the easiest is going to be to focus on the **`public_URL`**, and it looks like the following HTML will give me what I need:\n",
    "\n",
    "    <link rel=\"canonical\" href=\"https://www.ted.com/talks/al_gore_on_averting_climate_crisis/transcript\" />\n",
    "\n",
    "I can use BeautifulSoup to locate the `link` tag and then the `rel=\"canonical\"` attribute, and then I'll need to chomp `/transcript` off the string.\n",
    "\n",
    "Sounds doable, yeah?"
   ]
  },
  {
   "cell_type": "markdown",
   "metadata": {},
   "source": [
    "## Sandbox"
   ]
  },
  {
   "cell_type": "code",
   "execution_count": 14,
   "metadata": {},
   "outputs": [
    {
     "name": "stdout",
     "output_type": "stream",
     "text": [
      "[<link href=\"https://www.ted.com/talks/al_gore_on_averting_climate_crisis/transcript\" rel=\"canonical\"/>]\n"
     ]
    }
   ],
   "source": [
    "# Walking through the code to get the link tag above\n",
    "\n",
    "# Load HTML into a BS4 object\n",
    "thesoup = BeautifulSoup(open(\"./transcripts/transcript.0\"), \"html5lib\")\n",
    "\n",
    "public_URL = thesoup.find_all(\"link\", {'rel': 'canonical'})\n",
    "print(public_URL)"
   ]
  },
  {
   "cell_type": "markdown",
   "metadata": {},
   "source": [
    "I'm a little concerned that the code above appears to return a list. BS's `.text` method doesn't appear to work if I append it. For now, we'll see what happens with a test run."
   ]
  },
  {
   "cell_type": "code",
   "execution_count": 2,
   "metadata": {
    "collapsed": true
   },
   "outputs": [],
   "source": [
    "# =-=-=-=-=-=-=-=-=-=-=\n",
    "# Import libraries\n",
    "# =-=-=-=-=-=-=-=-=-=-= \n",
    "import pandas, re, csv, os\n",
    "from bs4 import BeautifulSoup"
   ]
  },
  {
   "cell_type": "code",
   "execution_count": 34,
   "metadata": {
    "collapsed": true
   },
   "outputs": [],
   "source": [
    "# =-=-=-=-=-=-=-=-=-=-=\n",
    "# Define functions\n",
    "# =-=-=-=-=-=-=-=-=-=-= \n",
    "\n",
    "def parse(thesoup):\n",
    "    public_URL = thesoup.find_all(\"link\", {'rel': 'canonical'})\n",
    "    for tag in thesoup.find_all(\"meta\"):\n",
    "        if tag.get(\"name\", None) == \"author\":\n",
    "            speaker = tag.get(\"content\", None)\n",
    "        if tag.get(\"itemprop\", None) == \"duration\":\n",
    "            duration = tag.get(\"content\", None)\n",
    "        if tag.get(\"itemprop\", None) == \"uploadDate\":\n",
    "            uploaded = tag.get(\"content\", None)\n",
    "        if tag.get(\"itemprop\", None) == \"interactionCount\":\n",
    "            views = tag.get(\"content\", None)\n",
    "        if tag.get(\"itemprop\", None) == \"description\":\n",
    "            description = tag.get(\"content\", None)\n",
    "    strung = ''.join([div.text for div in \n",
    "            thesoup.findAll(\"div\", {\"class\": \"Grid__cell flx-s:1 p-r:4\"})])\n",
    "    text   = re.sub(r\"[\\t]\", \"\", strung).replace(\"\\n\", \" \")\n",
    "    return public_URL, speaker, duration, uploaded, views, description, text\n",
    "\n",
    "def to_csv(pth, out):\n",
    "    # open file to write to.\n",
    "    with open(out, \"w\") as out:\n",
    "        # create csv.writer. \n",
    "        wr = csv.writer(out)\n",
    "        # write our headers.\n",
    "        wr.writerow([\"public_URL\", \"speaker\", \"duration\", \"uploaded\", \"views\", \n",
    "                     \"xss_description\", \"text\"])\n",
    "        # get all our html files.\n",
    "        for html in os.listdir(pth):\n",
    "            with open(os.path.join(pth, html)) as f:\n",
    "                # parse the file and write the data to a row.\n",
    "                wr.writerow(parse(BeautifulSoup(f, \"html5lib\")))"
   ]
  },
  {
   "cell_type": "code",
   "execution_count": 30,
   "metadata": {
    "collapsed": true
   },
   "outputs": [],
   "source": [
    "# =-=-=-=-=-=-=-=-=-=-=\n",
    "# Write the CSV\n",
    "# =-=-=-=-=-=-=-=-=-=-= \n",
    "\n",
    "to_csv(\"./test\",\"test_transcripts.csv\")"
   ]
  },
  {
   "cell_type": "code",
   "execution_count": 31,
   "metadata": {},
   "outputs": [
    {
     "data": {
      "text/html": [
       "<div>\n",
       "<table border=\"1\" class=\"dataframe\">\n",
       "  <thead>\n",
       "    <tr style=\"text-align: right;\">\n",
       "      <th></th>\n",
       "      <th>public_URL</th>\n",
       "      <th>speaker</th>\n",
       "      <th>duration</th>\n",
       "      <th>uploaded</th>\n",
       "      <th>views</th>\n",
       "      <th>description</th>\n",
       "      <th>text</th>\n",
       "    </tr>\n",
       "  </thead>\n",
       "  <tbody>\n",
       "    <tr>\n",
       "      <th>0</th>\n",
       "      <td>public_URL</td>\n",
       "      <td>speaker</td>\n",
       "      <td>duration</td>\n",
       "      <td>uploaded</td>\n",
       "      <td>views</td>\n",
       "      <td>description</td>\n",
       "      <td>text</td>\n",
       "    </tr>\n",
       "    <tr>\n",
       "      <th>1</th>\n",
       "      <td>[&lt;link href=\"https://www.ted.com/talks/erica_s...</td>\n",
       "      <td>Erica Stone</td>\n",
       "      <td>PT9M44S</td>\n",
       "      <td>2018-03-28T15:00:07+00:00</td>\n",
       "      <td>724708</td>\n",
       "      <td>In the US, your taxes fund academic research a...</td>\n",
       "      <td>Do you ever find yourself referencing a stud...</td>\n",
       "    </tr>\n",
       "    <tr>\n",
       "      <th>2</th>\n",
       "      <td>[&lt;link href=\"https://www.ted.com/talks/mennat_...</td>\n",
       "      <td>Mennat El Ghalid</td>\n",
       "      <td>PT4M36S</td>\n",
       "      <td>2018-03-27T19:56:43+00:00</td>\n",
       "      <td>811626</td>\n",
       "      <td>Each year, the world loses enough food to feed...</td>\n",
       "      <td>\"Will the blight end the chestnut? The farme...</td>\n",
       "    </tr>\n",
       "    <tr>\n",
       "      <th>3</th>\n",
       "      <td>[&lt;link href=\"https://www.ted.com/talks/ndidi_n...</td>\n",
       "      <td>Ndidi Nwuneli</td>\n",
       "      <td>PT13M12S</td>\n",
       "      <td>2018-03-29T14:53:59+00:00</td>\n",
       "      <td>662380</td>\n",
       "      <td>Ndidi Nwuneli has advice for Africans who beli...</td>\n",
       "      <td>I was born to two amazing professors who wer...</td>\n",
       "    </tr>\n",
       "  </tbody>\n",
       "</table>\n",
       "</div>"
      ],
      "text/plain": [
       "                                          public_URL           speaker  \\\n",
       "0                                         public_URL           speaker   \n",
       "1  [<link href=\"https://www.ted.com/talks/erica_s...       Erica Stone   \n",
       "2  [<link href=\"https://www.ted.com/talks/mennat_...  Mennat El Ghalid   \n",
       "3  [<link href=\"https://www.ted.com/talks/ndidi_n...     Ndidi Nwuneli   \n",
       "\n",
       "   duration                   uploaded   views  \\\n",
       "0  duration                   uploaded   views   \n",
       "1   PT9M44S  2018-03-28T15:00:07+00:00  724708   \n",
       "2   PT4M36S  2018-03-27T19:56:43+00:00  811626   \n",
       "3  PT13M12S  2018-03-29T14:53:59+00:00  662380   \n",
       "\n",
       "                                         description  \\\n",
       "0                                        description   \n",
       "1  In the US, your taxes fund academic research a...   \n",
       "2  Each year, the world loses enough food to feed...   \n",
       "3  Ndidi Nwuneli has advice for Africans who beli...   \n",
       "\n",
       "                                                text  \n",
       "0                                               text  \n",
       "1    Do you ever find yourself referencing a stud...  \n",
       "2    \"Will the blight end the chestnut? The farme...  \n",
       "3    I was born to two amazing professors who wer...  "
      ]
     },
     "execution_count": 31,
     "metadata": {},
     "output_type": "execute_result"
    }
   ],
   "source": [
    "# =-=-=-=-=-=-=-=-=-=-=\n",
    "# LOAD the CSV into a Pandas dataframe to check our work\n",
    "# =-=-=-=-=-=-=-=-=-=-= \n",
    "\n",
    "# Let python create the column names list:\n",
    "with open('./test_transcripts.csv') as f:\n",
    "    colnames = f.readline().strip().split(\",\")\n",
    "\n",
    "# Now will import the csv as a dataframe with the column names specified\n",
    "TEDtalks = pandas.read_csv('./test_transcripts.csv', names=colnames)\n",
    "\n",
    "# Check for success:\n",
    "TEDtalks.head()"
   ]
  },
  {
   "cell_type": "code",
   "execution_count": 32,
   "metadata": {
    "collapsed": true
   },
   "outputs": [],
   "source": [
    "descriptions = TEDtalks.description.tolist()"
   ]
  },
  {
   "cell_type": "code",
   "execution_count": 33,
   "metadata": {},
   "outputs": [
    {
     "name": "stdout",
     "output_type": "stream",
     "text": [
      "['description', 'In the US, your taxes fund academic research at public universities. Why then do you need to pay expensive, for-profit journals for the results of that research? Erica Stone advocates for a new, open-access relationship between the public and scholars, making the case that academics should publish in more accessible media. \"A functioning democracy requires that the public be well-educated and well-informed,\" Stone says. \"Instead of research happening behind paywalls and bureaucracy, wouldn\\'t it be better if it was unfolding right in front of us?\"', 'Each year, the world loses enough food to feed half a billion people to fungi, the most destructive pathogens of plants. Mycologist and TED Fellow Mennat El Ghalid explains how a breakthrough in our understanding of the molecular signals fungi use to attack plants could disrupt this interaction — and save our crops.', 'Ndidi Nwuneli has advice for Africans who believe in God — and Africans who don\\'t. To the religious, she advises against using God to outsource responsibility for what happens in their lives. To the non-religious, she asks that they keep an open mind and work with faith-based organizations, especially on issues like health care and education. \"There\\'s so much potential that can be realized when we walk across the divide of faith and, hand in hand, try to solve many of our problems,\" Nwuneli says.']\n"
     ]
    }
   ],
   "source": [
    "print(descriptions)"
   ]
  }
 ],
 "metadata": {
  "kernelspec": {
   "display_name": "Python 3",
   "language": "python",
   "name": "python3"
  },
  "language_info": {
   "codemirror_mode": {
    "name": "ipython",
    "version": 3
   },
   "file_extension": ".py",
   "mimetype": "text/x-python",
   "name": "python",
   "nbconvert_exporter": "python",
   "pygments_lexer": "ipython3",
   "version": "3.4.8"
  }
 },
 "nbformat": 4,
 "nbformat_minor": 2
}
