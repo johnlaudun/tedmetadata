{
 "cells": [
  {
   "cell_type": "markdown",
   "metadata": {},
   "source": [
    "## Parsing the Transcripts\n",
    "\n",
    "In this notebook, we are going to parse the downloaded transcripts found in the directory of the same name. This script was originally written to use the `requests` library and to fetch the transcripts from the website itself. When that failed, I used `wget` and a list of URLs to download the html files, which are here ordered by their place in the list. "
   ]
  },
  {
   "cell_type": "markdown",
   "metadata": {},
   "source": [
    "In order to facilitate a merge, I need to elicit a **key** that these files share with other CSVs. I think the easiest is going to be to focus on the **`public_URL`**, and it looks like the following HTML will give me what I need:\n",
    "\n",
    "    <link rel=\"canonical\" href=\"https://www.ted.com/talks/al_gore_on_averting_climate_crisis/transcript\" />\n",
    "\n",
    "I can use BeautifulSoup to locate the `link` tag and then the `rel=\"canonical\"` attribute, and then I'll need to chomp `/transcript` off the string.\n",
    "\n",
    "Sounds doable, yeah?"
   ]
  },
  {
   "cell_type": "markdown",
   "metadata": {},
   "source": [
    "## Sandbox"
   ]
  },
  {
   "cell_type": "markdown",
   "metadata": {},
   "source": [
    "There's a lot going on in one line of code below, which I built up over a series of trials. To be clear, I wanted to get it down to one-line to make the `parse` function more compact. Here's a description of what happens in the series of things that happen below.\n",
    "\n",
    "Once `thesoup` object is created, `find` finds the first instance of the `<link>` tag where the `\"rel\"` attribute has the value \"`canonical`\". The `['href']` acts, as I understand it, like an index to a list, pulling out that href value, which in the case of `transcript.0` is:\n",
    "\n",
    "    https://www.ted.com/talks/al_gore_on_averting_climate_crisis/transcript\n",
    "\n",
    "We don't want the `/transcript` part of this string, since we will be merging on the main URL. Some googling and stackoverflowing revealed that the `split` method is faster than any regex we could use. Fortunately, all we needed was to peel off the part after the last slant, so this use of `rsplit('/', 1)` (reverse split) goes one slant back from the end and creates a list with two items. We want the first item in that list, and the zeroth index, `[0]`, gives us that."
   ]
  },
  {
   "cell_type": "code",
   "execution_count": 50,
   "metadata": {},
   "outputs": [
    {
     "name": "stdout",
     "output_type": "stream",
     "text": [
      "https://www.ted.com/talks/al_gore_on_averting_climate_crisis\n"
     ]
    }
   ],
   "source": [
    "# Walking through the code to get the link tag above\n",
    "\n",
    "# Load HTML into a BS4 object\n",
    "thesoup = BeautifulSoup(open(\"./transcripts/transcript.0\"), \"html5lib\")\n",
    "\n",
    "public_html = thesoup.find(\"link\", {'rel': 'canonical'})['href'].rsplit('/', 1)[0]\n",
    "print(public_html)"
   ]
  },
  {
   "cell_type": "code",
   "execution_count": 2,
   "metadata": {
    "collapsed": true
   },
   "outputs": [],
   "source": [
    "# =-=-=-=-=-=-=-=-=-=-=\n",
    "# Import libraries\n",
    "# =-=-=-=-=-=-=-=-=-=-= \n",
    "import pandas, re, csv, os\n",
    "from bs4 import BeautifulSoup"
   ]
  },
  {
   "cell_type": "code",
   "execution_count": 51,
   "metadata": {
    "collapsed": true
   },
   "outputs": [],
   "source": [
    "# =-=-=-=-=-=-=-=-=-=-=\n",
    "# Define functions\n",
    "# =-=-=-=-=-=-=-=-=-=-= \n",
    "\n",
    "def parse(thesoup):\n",
    "    public_URL = thesoup.find(\"link\", {'rel': 'canonical'})['href'].rsplit('/', 1)[0]\n",
    "    for tag in thesoup.find_all(\"meta\"):\n",
    "        if tag.get(\"name\", None) == \"author\":\n",
    "            speaker = tag.get(\"content\", None)\n",
    "        if tag.get(\"itemprop\", None) == \"duration\":\n",
    "            duration = tag.get(\"content\", None)\n",
    "        if tag.get(\"itemprop\", None) == \"uploadDate\":\n",
    "            uploaded = tag.get(\"content\", None)\n",
    "        if tag.get(\"itemprop\", None) == \"interactionCount\":\n",
    "            views = tag.get(\"content\", None)\n",
    "        if tag.get(\"itemprop\", None) == \"description\":\n",
    "            description = tag.get(\"content\", None)\n",
    "    strung = ''.join([div.text for div in \n",
    "            thesoup.findAll(\"div\", {\"class\": \"Grid__cell flx-s:1 p-r:4\"})])\n",
    "    text   = re.sub(r\"[\\t]\", \"\", strung).replace(\"\\n\", \" \")\n",
    "    return public_URL, speaker, duration, uploaded, views, description, text\n",
    "\n",
    "def to_csv(pth, out):\n",
    "    # open file to write to.\n",
    "    with open(out, \"w\") as out:\n",
    "        # create csv.writer. \n",
    "        wr = csv.writer(out)\n",
    "        # write our headers.\n",
    "        wr.writerow([\"public_URL\", \"speaker\", \"duration\", \"uploaded\", \"views\", \n",
    "                     \"xss_description\", \"text\"])\n",
    "        # get all our html files.\n",
    "        for html in os.listdir(pth):\n",
    "            with open(os.path.join(pth, html)) as f:\n",
    "                # parse the file and write the data to a row.\n",
    "                wr.writerow(parse(BeautifulSoup(f, \"html5lib\")))"
   ]
  },
  {
   "cell_type": "code",
   "execution_count": 52,
   "metadata": {},
   "outputs": [],
   "source": [
    "# =-=-=-=-=-=-=-=-=-=-=\n",
    "# Write the CSV\n",
    "# =-=-=-=-=-=-=-=-=-=-= \n",
    "\n",
    "to_csv(\"./test\",\"test_transcripts.csv\")"
   ]
  },
  {
   "cell_type": "code",
   "execution_count": 53,
   "metadata": {},
   "outputs": [
    {
     "data": {
      "text/html": [
       "<div>\n",
       "<table border=\"1\" class=\"dataframe\">\n",
       "  <thead>\n",
       "    <tr style=\"text-align: right;\">\n",
       "      <th></th>\n",
       "      <th>public_URL</th>\n",
       "      <th>speaker</th>\n",
       "      <th>duration</th>\n",
       "      <th>uploaded</th>\n",
       "      <th>views</th>\n",
       "      <th>xss_description</th>\n",
       "      <th>text</th>\n",
       "    </tr>\n",
       "  </thead>\n",
       "  <tbody>\n",
       "    <tr>\n",
       "      <th>0</th>\n",
       "      <td>public_URL</td>\n",
       "      <td>speaker</td>\n",
       "      <td>duration</td>\n",
       "      <td>uploaded</td>\n",
       "      <td>views</td>\n",
       "      <td>xss_description</td>\n",
       "      <td>text</td>\n",
       "    </tr>\n",
       "    <tr>\n",
       "      <th>1</th>\n",
       "      <td>https://www.ted.com/talks/erica_stone_academic...</td>\n",
       "      <td>Erica Stone</td>\n",
       "      <td>PT9M44S</td>\n",
       "      <td>2018-03-28T15:00:07+00:00</td>\n",
       "      <td>724708</td>\n",
       "      <td>In the US, your taxes fund academic research a...</td>\n",
       "      <td>Do you ever find yourself referencing a stud...</td>\n",
       "    </tr>\n",
       "    <tr>\n",
       "      <th>2</th>\n",
       "      <td>https://www.ted.com/talks/mennat_el_ghalid_how...</td>\n",
       "      <td>Mennat El Ghalid</td>\n",
       "      <td>PT4M36S</td>\n",
       "      <td>2018-03-27T19:56:43+00:00</td>\n",
       "      <td>811626</td>\n",
       "      <td>Each year, the world loses enough food to feed...</td>\n",
       "      <td>\"Will the blight end the chestnut? The farme...</td>\n",
       "    </tr>\n",
       "    <tr>\n",
       "      <th>3</th>\n",
       "      <td>https://www.ted.com/talks/ndidi_nwuneli_the_ro...</td>\n",
       "      <td>Ndidi Nwuneli</td>\n",
       "      <td>PT13M12S</td>\n",
       "      <td>2018-03-29T14:53:59+00:00</td>\n",
       "      <td>662380</td>\n",
       "      <td>Ndidi Nwuneli has advice for Africans who beli...</td>\n",
       "      <td>I was born to two amazing professors who wer...</td>\n",
       "    </tr>\n",
       "  </tbody>\n",
       "</table>\n",
       "</div>"
      ],
      "text/plain": [
       "                                          public_URL           speaker  \\\n",
       "0                                         public_URL           speaker   \n",
       "1  https://www.ted.com/talks/erica_stone_academic...       Erica Stone   \n",
       "2  https://www.ted.com/talks/mennat_el_ghalid_how...  Mennat El Ghalid   \n",
       "3  https://www.ted.com/talks/ndidi_nwuneli_the_ro...     Ndidi Nwuneli   \n",
       "\n",
       "   duration                   uploaded   views  \\\n",
       "0  duration                   uploaded   views   \n",
       "1   PT9M44S  2018-03-28T15:00:07+00:00  724708   \n",
       "2   PT4M36S  2018-03-27T19:56:43+00:00  811626   \n",
       "3  PT13M12S  2018-03-29T14:53:59+00:00  662380   \n",
       "\n",
       "                                     xss_description  \\\n",
       "0                                    xss_description   \n",
       "1  In the US, your taxes fund academic research a...   \n",
       "2  Each year, the world loses enough food to feed...   \n",
       "3  Ndidi Nwuneli has advice for Africans who beli...   \n",
       "\n",
       "                                                text  \n",
       "0                                               text  \n",
       "1    Do you ever find yourself referencing a stud...  \n",
       "2    \"Will the blight end the chestnut? The farme...  \n",
       "3    I was born to two amazing professors who wer...  "
      ]
     },
     "execution_count": 53,
     "metadata": {},
     "output_type": "execute_result"
    }
   ],
   "source": [
    "# =-=-=-=-=-=-=-=-=-=-=\n",
    "# LOAD the CSV into a Pandas dataframe to check our work\n",
    "# =-=-=-=-=-=-=-=-=-=-= \n",
    "\n",
    "# Let python create the column names list:\n",
    "with open('./test_transcripts.csv') as f:\n",
    "    colnames = f.readline().strip().split(\",\")\n",
    "\n",
    "# Now will import the csv as a dataframe with the column names specified\n",
    "TEDtalks = pandas.read_csv('./test_transcripts.csv', names=colnames)\n",
    "\n",
    "# Check for success:\n",
    "TEDtalks.head()"
   ]
  },
  {
   "cell_type": "code",
   "execution_count": 54,
   "metadata": {
    "collapsed": true
   },
   "outputs": [],
   "source": [
    "URLs = TEDtalks.public_URL.tolist()"
   ]
  },
  {
   "cell_type": "code",
   "execution_count": 55,
   "metadata": {},
   "outputs": [
    {
     "name": "stdout",
     "output_type": "stream",
     "text": [
      "['public_URL', 'https://www.ted.com/talks/erica_stone_academic_research_is_publicly_funded_why_isn_t_it_publicly_available', 'https://www.ted.com/talks/mennat_el_ghalid_how_fungi_recognize_and_infect_plants', 'https://www.ted.com/talks/ndidi_nwuneli_the_role_of_faith_and_belief_in_modern_africa']\n"
     ]
    }
   ],
   "source": [
    "print(URLs)"
   ]
  }
 ],
 "metadata": {
  "kernelspec": {
   "display_name": "Python 3",
   "language": "python",
   "name": "python3"
  },
  "language_info": {
   "codemirror_mode": {
    "name": "ipython",
    "version": 3
   },
   "file_extension": ".py",
   "mimetype": "text/x-python",
   "name": "python",
   "nbconvert_exporter": "python",
   "pygments_lexer": "ipython3",
   "version": "3.4.8"
  }
 },
 "nbformat": 4,
 "nbformat_minor": 2
}
