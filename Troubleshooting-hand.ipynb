{
 "cells": [
  {
   "cell_type": "code",
   "execution_count": 1,
   "metadata": {
    "collapsed": true
   },
   "outputs": [],
   "source": [
    "# Load the modules we need\n",
    "import os\n",
    "from bs4 import BeautifulSoup\n",
    "import json\n",
    "import re\n",
    "from datetime import datetime"
   ]
  },
  {
   "cell_type": "code",
   "execution_count": 2,
   "metadata": {},
   "outputs": [
    {
     "data": {
      "text/plain": [
       "'/Users/john/Code/tedmetadata'"
      ]
     },
     "execution_count": 2,
     "metadata": {},
     "output_type": "execute_result"
    }
   ],
   "source": [
    "% pwd"
   ]
  },
  {
   "cell_type": "code",
   "execution_count": 13,
   "metadata": {},
   "outputs": [
    {
     "name": "stdout",
     "output_type": "stream",
     "text": [
      "//dsc.discovery.com/show-news/top-10-startling-giant-squid-facts.html\" target=\"_blank\">filmed the giant squid</a>  (<em>Architeuthis</em>) for the first time in its home ocean.</p>' 'filmed'\n"
     ]
    },
    {
     "ename": "AttributeError",
     "evalue": "'NoneType' object has no attribute 'group'",
     "output_type": "error",
     "traceback": [
      "\u001b[0;31m---------------------------------------------------------------------------\u001b[0m",
      "\u001b[0;31mAttributeError\u001b[0m                            Traceback (most recent call last)",
      "\u001b[0;32m<ipython-input-13-f8d8015d73df>\u001b[0m in \u001b[0;36m<module>\u001b[0;34m()\u001b[0m\n\u001b[1;32m     31\u001b[0m             \u001b[0mprint\u001b[0m\u001b[0;34m(\u001b[0m\u001b[0mindexed\u001b[0m\u001b[0;34m)\u001b[0m\u001b[0;34m\u001b[0m\u001b[0m\n\u001b[1;32m     32\u001b[0m \u001b[0;34m\u001b[0m\u001b[0m\n\u001b[0;32m---> 33\u001b[0;31m             \u001b[0mdate\u001b[0m \u001b[0;34m=\u001b[0m \u001b[0mre\u001b[0m\u001b[0;34m.\u001b[0m\u001b[0msearch\u001b[0m\u001b[0;34m(\u001b[0m\u001b[0;34m'[0-9]{10}'\u001b[0m\u001b[0;34m,\u001b[0m \u001b[0mindexed\u001b[0m\u001b[0;34m)\u001b[0m\u001b[0;34m.\u001b[0m\u001b[0mgroup\u001b[0m\u001b[0;34m(\u001b[0m\u001b[0;36m0\u001b[0m\u001b[0;34m)\u001b[0m\u001b[0;34m\u001b[0m\u001b[0m\n\u001b[0m\u001b[1;32m     34\u001b[0m             \u001b[0mmatches\u001b[0m\u001b[0;34m.\u001b[0m\u001b[0mappend\u001b[0m\u001b[0;34m(\u001b[0m\u001b[0mdate\u001b[0m\u001b[0;34m)\u001b[0m\u001b[0;34m\u001b[0m\u001b[0m\n\u001b[1;32m     35\u001b[0m         \u001b[0mfilmed\u001b[0m \u001b[0;34m=\u001b[0m \u001b[0mdatetime\u001b[0m\u001b[0;34m.\u001b[0m\u001b[0mutcfromtimestamp\u001b[0m\u001b[0;34m(\u001b[0m\u001b[0mfloat\u001b[0m\u001b[0;34m(\u001b[0m\u001b[0mmatches\u001b[0m\u001b[0;34m[\u001b[0m\u001b[0;36m0\u001b[0m\u001b[0;34m]\u001b[0m\u001b[0;34m)\u001b[0m\u001b[0;34m)\u001b[0m\u001b[0;34m.\u001b[0m\u001b[0mstrftime\u001b[0m\u001b[0;34m(\u001b[0m\u001b[0;34m'%Y-%m-%d'\u001b[0m\u001b[0;34m)\u001b[0m\u001b[0;34m\u001b[0m\u001b[0m\n",
      "\u001b[0;31mAttributeError\u001b[0m: 'NoneType' object has no attribute 'group'"
     ]
    }
   ],
   "source": [
    "# FILE being examined\n",
    "the_data = \"hand/david_binder_the_arts_festival_revolution.html\"\n",
    "\n",
    "import glob\n",
    "\n",
    "file_list = glob.glob('./hand' + '/*.html')\n",
    "\n",
    "for filename in file_list:\n",
    "    with open(filename, 'r', encoding='utf-8') as f:\n",
    "        soup = BeautifulSoup(f.read(), \"html5lib\")\n",
    "        my_list = [i.string.lstrip(\n",
    "            'q(\"talkPage.init\", {\\n\\t\"el\": \"[data-talk-page]\",\\n\\t \"__INITIAL_DATA__\":')\n",
    "           .rstrip('})')\n",
    "           for i in soup.select('script') \n",
    "           if i.string and i.string.startswith('q')]\n",
    "        # Read first layer of JSON and get out those elements we want\n",
    "        pre_json = '{\"' + \"\".join(my_list)\n",
    "        my_json = json.loads(pre_json)\n",
    "        slug = my_json['slug']\n",
    "        vcount = my_json['viewed_count']\n",
    "        event = my_json['event']\n",
    "        # Read second layer of JSON and get out listed elements:\n",
    "        properties = \"filmed,published\" # No spaces between terms!\n",
    "        talks_listed = str(my_json['talks']).split(\",\")\n",
    "        regex_list = [\".*(\"+i+\").*\" for i in properties.split(\",\")]\n",
    "        matches = []\n",
    "        for e in regex_list:\n",
    "            filtered = filter(re.compile(e).match, talks_listed)\n",
    "            indexed = \"\".join(filtered).split(\":\")[1]\n",
    "            print(indexed)\n",
    "\n",
    "            date = re.search('[0-9]{10}', indexed).group(0)\n",
    "            matches.append(date)\n",
    "        filmed = datetime.utcfromtimestamp(float(matches[0])).strftime('%Y-%m-%d')\n",
    "        #published = datetime.utcfromtimestamp(float(matches[1])).strftime('%Y-%m-%d')\n",
    "        print(\"{},{},{},{}\".format(slug, vcount, event, filmed))"
   ]
  },
  {
   "cell_type": "markdown",
   "metadata": {},
   "source": [
    "ALTERNATE: if we change single quotes to double quotes: will the `json` module accept it? The short answer is that the `json` module chokes on a variety of things, including the Arabic and Chinese characters inside quotation marks. \n",
    "\n",
    "```python\n",
    "json_string = str(my_json['talks']).replace(\"'\", '\"').replace('None', '\"None\"').replace('True', '\"True\"')\n",
    "# print(json_string)\n",
    "nested_json = json.loads(json_string)\n",
    "```\n",
    "\n",
    "But while I was working on this, I came across a better way to replace multiple items than my chain above:\n",
    "\n",
    "```python\n",
    "replacements = {'None': '\"None\"', 'True': '\"True\"'} # define desired replacements here\n",
    "\n",
    "rep = dict((re.escape(k), v) for k, v in replacments.items())\n",
    "pattern = re.compile(\"|\".join(rep.keys()))\n",
    "text = pattern.sub(lambda m: rep[re.escape(m.group(0))], text)\n",
    "```"
   ]
  },
  {
   "cell_type": "code",
   "execution_count": null,
   "metadata": {
    "collapsed": true
   },
   "outputs": [],
   "source": [
    "print(slug, vcount, event, filmed, published)"
   ]
  }
 ],
 "metadata": {
  "kernelspec": {
   "display_name": "Python 3",
   "language": "python",
   "name": "python3"
  },
  "language_info": {
   "codemirror_mode": {
    "name": "ipython",
    "version": 3
   },
   "file_extension": ".py",
   "mimetype": "text/x-python",
   "name": "python",
   "nbconvert_exporter": "python",
   "pygments_lexer": "ipython3",
   "version": "3.4.6"
  }
 },
 "nbformat": 4,
 "nbformat_minor": 2
}
