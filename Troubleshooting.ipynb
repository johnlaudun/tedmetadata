{
 "cells": [
  {
   "cell_type": "code",
   "execution_count": 1,
   "metadata": {
    "collapsed": true
   },
   "outputs": [],
   "source": [
    "# Load the modules we need\n",
    "import os\n",
    "from bs4 import BeautifulSoup\n",
    "import json\n",
    "import re\n",
    "from datetime import datetime\n",
    "\n",
    "\n",
    "# FILE being examined\n",
    "the_file = \"html/amos_winter_the_cheap_all_terrain_wheelchair.html\"\n",
    "\n",
    "# Everything else we need to open the file\n",
    "cwd = os.getcwd()\n",
    "the_doc = open(os.path.join(cwd, the_file),\"r\") # OR: the_doc = open(dir_path+the_file,\"r\")"
   ]
  },
  {
   "cell_type": "code",
   "execution_count": 2,
   "metadata": {
    "collapsed": true
   },
   "outputs": [],
   "source": [
    "text = the_doc.read()\n",
    "soup = BeautifulSoup(text, \"html5lib\")\n",
    "my_list = [i.string.lstrip('q(\"talkPage.init\", {\\n\\t\"el\": \"[data-talk-page]\",\\n\\t \"__INITIAL_DATA__\":')\n",
    "           .rstrip('})')\n",
    "           for i in soup.select('script') \n",
    "           if i.string and i.string.startswith('q')]"
   ]
  },
  {
   "cell_type": "code",
   "execution_count": 3,
   "metadata": {
    "collapsed": true
   },
   "outputs": [],
   "source": [
    "# Read first layer of JSON and get out those elements we want\n",
    "pre_json = '{\"' + \"\".join(my_list)"
   ]
  },
  {
   "cell_type": "code",
   "execution_count": 4,
   "metadata": {
    "collapsed": true
   },
   "outputs": [],
   "source": [
    "my_json = json.loads(pre_json)"
   ]
  },
  {
   "cell_type": "markdown",
   "metadata": {},
   "source": [
    "NO ERROR! Why is this returning an error when it's a function but not returning an error on its own?"
   ]
  },
  {
   "cell_type": "code",
   "execution_count": 6,
   "metadata": {
    "collapsed": true
   },
   "outputs": [],
   "source": [
    "slug = my_json['slug']\n",
    "vcount = my_json['viewed_count']\n",
    "event = my_json['event']\n",
    "\n",
    "# Read second layer of JSON and get out listed elements:\n",
    "properties = \"filmed,published\" # No spaces between terms!\n",
    "talks_listed = str(my_json['talks']).split(\",\")\n",
    "regex_list = [\".*(\"+i+\").*\" for i in properties.split(\",\")]\n",
    "matches = []\n",
    "for e in regex_list:\n",
    "    filtered = filter(re.compile(e).match, talks_listed)\n",
    "    indexed = \"\".join(filtered).split(\":\")[1]\n",
    "    matches.append(indexed)\n",
    "filmed = datetime.utcfromtimestamp(float(matches[0])).strftime('%Y-%m-%d')\n",
    "published = datetime.utcfromtimestamp(float(matches[1])).strftime('%Y-%m-%d')"
   ]
  },
  {
   "cell_type": "code",
   "execution_count": 7,
   "metadata": {},
   "outputs": [
    {
     "name": "stdout",
     "output_type": "stream",
     "text": [
      "amos_winter_the_cheap_all_terrain_wheelchair 1045131 TEDxBoston 2012 2012-06-22 2012-11-20\n"
     ]
    }
   ],
   "source": [
    "print(slug, vcount, event, filmed, published)"
   ]
  }
 ],
 "metadata": {
  "kernelspec": {
   "display_name": "Python 3",
   "language": "python",
   "name": "python3"
  },
  "language_info": {
   "codemirror_mode": {
    "name": "ipython",
    "version": 3
   },
   "file_extension": ".py",
   "mimetype": "text/x-python",
   "name": "python",
   "nbconvert_exporter": "python",
   "pygments_lexer": "ipython3",
   "version": "3.4.7"
  }
 },
 "nbformat": 4,
 "nbformat_minor": 2
}
