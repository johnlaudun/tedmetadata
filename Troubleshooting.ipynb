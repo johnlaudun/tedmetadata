{
 "cells": [
  {
   "cell_type": "code",
   "execution_count": 1,
   "metadata": {
    "collapsed": true
   },
   "outputs": [],
   "source": [
    "# Load the modules we need\n",
    "import os\n",
    "from bs4 import BeautifulSoup\n",
    "import json\n",
    "import re\n",
    "from datetime import datetime\n",
    "\n",
    "\n",
    "# FILE being examined\n",
    "the_data = \"html/amos_winter_the_cheap_all_terrain_wheelchair.html\"\n",
    "\n",
    "# Everything else we need to open the file\n",
    "cwd = os.getcwd()\n",
    "the_file = open(os.path.join(cwd, the_data),\"r\") # OR: the_doc = open(dir_path+the_data,\"r\")"
   ]
  },
  {
   "cell_type": "code",
   "execution_count": 31,
   "metadata": {},
   "outputs": [],
   "source": [
    "text = the_file.read()\n",
    "soup = BeautifulSoup(text, \"html5lib\")\n",
    "my_list = [i.string.lstrip('q(\"talkPage.init\", {\\n\\t\"el\": \"[data-talk-page]\",\\n\\t \"__INITIAL_DATA__\":')\n",
    "           .rstrip('})')\n",
    "           for i in soup.select('script') \n",
    "           if i.string and i.string.startswith('q')]"
   ]
  },
  {
   "cell_type": "code",
   "execution_count": 13,
   "metadata": {
    "collapsed": true
   },
   "outputs": [],
   "source": [
    "# Read first layer of JSON and get out those elements we want\n",
    "pre_json = '{\"' + \"\".join(my_list)"
   ]
  },
  {
   "cell_type": "code",
   "execution_count": 4,
   "metadata": {},
   "outputs": [
    {
     "name": "stdout",
     "output_type": "stream",
     "text": [
      "amos_winter_the_cheap_all_terrain_wheelchair 1045131 TEDxBoston 2012\n"
     ]
    }
   ],
   "source": [
    "my_json = json.loads(pre_json)\n",
    "slug = my_json['slug']\n",
    "vcount = my_json['viewed_count']\n",
    "event = my_json['event']\n",
    "print(slug, vcount, event)"
   ]
  },
  {
   "cell_type": "code",
   "execution_count": null,
   "metadata": {
    "collapsed": true
   },
   "outputs": [],
   "source": [
    "# Read second layer of JSON and get out listed elements:\n",
    "properties = \"filmed,published\" # No spaces between terms!\n",
    "talks_listed = str(my_json['talks']).split(\",\")\n",
    "regex_list = [\".*(\"+i+\").*\" for i in properties.split(\",\")]\n",
    "matches = []\n",
    "for e in regex_list:\n",
    "    filtered = filter(re.compile(e).match, talks_listed)\n",
    "    indexed = \"\".join(filtered).split(\":\")[1]\n",
    "    matches.append(indexed)\n",
    "filmed = datetime.utcfromtimestamp(float(matches[0])).strftime('%Y-%m-%d')\n",
    "published = datetime.utcfromtimestamp(float(matches[1])).strftime('%Y-%m-%d')"
   ]
  },
  {
   "cell_type": "markdown",
   "metadata": {},
   "source": [
    "ALTERNATE: if we change single quotes to double quotes: will the `json` module accept it? The short answer is that the `json` module chokes on a variety of things, including the Arabic and Chinese characters inside quotation marks. \n",
    "\n",
    "```python\n",
    "json_string = str(my_json['talks']).replace(\"'\", '\"').replace('None', '\"None\"').replace('True', '\"True\"')\n",
    "# print(json_string)\n",
    "nested_json = json.loads(json_string)\n",
    "```\n",
    "\n",
    "But while I was working on this, I came across a better way to replace multiple items than my chain above:\n",
    "\n",
    "```python\n",
    "replacements = {'None': '\"None\"', 'True': '\"True\"'} # define desired replacements here\n",
    "\n",
    "rep = dict((re.escape(k), v) for k, v in replacments.items())\n",
    "pattern = re.compile(\"|\".join(rep.keys()))\n",
    "text = pattern.sub(lambda m: rep[re.escape(m.group(0))], text)\n",
    "```"
   ]
  },
  {
   "cell_type": "code",
   "execution_count": null,
   "metadata": {},
   "outputs": [],
   "source": [
    "print(slug, vcount, event, filmed, published)"
   ]
  }
 ],
 "metadata": {
  "kernelspec": {
   "display_name": "Python 3",
   "language": "python",
   "name": "python3"
  },
  "language_info": {
   "codemirror_mode": {
    "name": "ipython",
    "version": 3
   },
   "file_extension": ".py",
   "mimetype": "text/x-python",
   "name": "python",
   "nbconvert_exporter": "python",
   "pygments_lexer": "ipython3",
   "version": "3.4.6"
  }
 },
 "nbformat": 4,
 "nbformat_minor": 2
}
