{
 "cells": [
  {
   "cell_type": "code",
   "execution_count": 23,
   "metadata": {
    "collapsed": true
   },
   "outputs": [],
   "source": [
    "# Load the modules we need\n",
    "import os\n",
    "from bs4 import BeautifulSoup\n",
    "import json\n",
    "import re\n",
    "from datetime import datetime"
   ]
  },
  {
   "cell_type": "code",
   "execution_count": 42,
   "metadata": {},
   "outputs": [
    {
     "name": "stdout",
     "output_type": "stream",
     "text": [
      "mia_nacamulli_the_benefits_of_a_bilingual_brain,0,TED-Ed\n"
     ]
    }
   ],
   "source": [
    "# FILE being examined\n",
    "the_data = \"hand/mia_nacamulli_the_benefits_of_a_bilingual_brain.html\"\n",
    "\n",
    "# Everything else we need to open the file\n",
    "cwd = os.getcwd()\n",
    "the_file = open(os.path.join(cwd, the_data),\"r\") # OR: the_doc = open(dir_path+the_data,\"r\")\n",
    "\n",
    "text = the_file.read()\n",
    "soup = BeautifulSoup(text, \"html5lib\")\n",
    "my_list = [i.string.lstrip('q(\"talkPage.init\", {\\n\\t\"el\": \"[data-talk-page]\",\\n\\t \"__INITIAL_DATA__\":')\n",
    "           .rstrip('})')\n",
    "           for i in soup.select('script') \n",
    "           if i.string and i.string.startswith('q')]\n",
    "\n",
    "# Read first layer of JSON and get out those elements we want\n",
    "pre_json = '{\"' + \"\".join(my_list)\n",
    "\n",
    "my_json = json.loads(pre_json)\n",
    "slug = my_json['slug']\n",
    "vcount = my_json['viewed_count']\n",
    "event = my_json['event']\n",
    "# print(slug, vcount, event)\n",
    "\n",
    "# Read second layer of JSON and get out listed elements:\n",
    "# properties = \"filmed,published\" # No spaces between terms!\n",
    "# talks_listed = str(my_json['talks']).split(\",\")\n",
    "# regex_list = [\".*(\"+i+\").*\" for i in properties.split(\",\")]\n",
    "# matches = []\n",
    "# for e in regex_list:\n",
    "#     filtered = filter(re.compile(e).match, talks_listed)\n",
    "#     indexed = \"\".join(filtered).split(\":\")[1]\n",
    "#     date = re.search('[0-9]{10}', indexed).group(0)\n",
    "#     matches.append(date)\n",
    "# filmed = datetime.utcfromtimestamp(float(matches[0])).strftime('%Y-%m-%d')\n",
    "#published = datetime.utcfromtimestamp(float(matches[1])).strftime('%Y-%m-%d')\n",
    "# print(filmed) published\n",
    "\n",
    "print(\"{},{},{}\".format(slug, vcount, event))"
   ]
  }
 ],
 "metadata": {
  "kernelspec": {
   "display_name": "Python 3",
   "language": "python",
   "name": "python3"
  },
  "language_info": {
   "codemirror_mode": {
    "name": "ipython",
    "version": 3
   },
   "file_extension": ".py",
   "mimetype": "text/x-python",
   "name": "python",
   "nbconvert_exporter": "python",
   "pygments_lexer": "ipython3",
   "version": "3.4.6"
  }
 },
 "nbformat": 4,
 "nbformat_minor": 2
}
