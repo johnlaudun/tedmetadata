{
 "cells": [
  {
   "cell_type": "code",
   "execution_count": 1,
   "metadata": {
    "collapsed": true
   },
   "outputs": [],
   "source": [
    "from bs4 import BeautifulSoup\n",
    "import json\n",
    "import re\n",
    "from datetime import datetime\n",
    "import csv\n",
    "import os"
   ]
  },
  {
   "cell_type": "code",
   "execution_count": 2,
   "metadata": {
    "collapsed": true
   },
   "outputs": [],
   "source": [
    "def get_metadata(the_file):\n",
    "    \n",
    "    # Load the modules we need: \n",
    "    # from bs4 import BeautifulSoup\n",
    "    # import json\n",
    "    # import re\n",
    "    # from datetime import datetime\n",
    "    \n",
    "    # Read the file, load it into BS, then grab section we want\n",
    "    text = the_file.read()\n",
    "    soup = BeautifulSoup(text, \"html5lib\")\n",
    "    my_list = [i.string.lstrip('q(\"talkPage.init\", {\\n\\t\"el\": \"[data-talk-page]\",\\n\\t \"__INITIAL_DATA__\":')\n",
    "               .rstrip('})')\n",
    "               for i in soup.select('script') \n",
    "               if i.string and i.string.startswith('q')]\n",
    "    \n",
    "    # Read first layer of JSON and get out those elements we want\n",
    "    pre_json = '{\"' + \"\".join(my_list)\n",
    "    my_json = json.loads(pre_json)\n",
    "    slug = my_json['slug']\n",
    "    vcount = my_json['viewed_count']\n",
    "    event = my_json['event']\n",
    "    \n",
    "    # Read second layer of JSON and get out listed elements:\n",
    "    properties = \"filmed,published\" # No spaces between terms!\n",
    "    talks_listed = str(my_json['talks']).split(\",\")\n",
    "    regex_list = [\".*(\"+i+\").*\" for i in properties.split(\",\")]\n",
    "    matches = []\n",
    "    for e in regex_list:\n",
    "        filtered = filter(re.compile(e).match, talks_listed)\n",
    "        indexed = \"\".join(filtered).split(\":\")[1]\n",
    "        date = re.search('[0-9]{10}', indexed).group(0)\n",
    "        matches.append(date)\n",
    "    filmed = datetime.utcfromtimestamp(float(matches[0])).strftime('%Y-%m-%d')\n",
    "    published = datetime.utcfromtimestamp(float(matches[1])).strftime('%Y-%m-%d')\n",
    "    return slug, vcount, event, filmed, published"
   ]
  },
  {
   "cell_type": "code",
   "execution_count": 4,
   "metadata": {
    "collapsed": true
   },
   "outputs": [],
   "source": [
    "def to_csv(dir_path, output_csv):\n",
    "    \"\"\"import csv, os\"\"\"\n",
    "    with open(output_csv, \"w\") as out:\n",
    "        # create csv.writer.\n",
    "        wr = csv.writer(out)\n",
    "        # write our headers.\n",
    "        wr.writerow([\"slug\", \"view_count\", \"event\", \"filmed\"]) # , \"published\"\n",
    "        # get all our html files.\n",
    "        for html in os.listdir(dir_path):\n",
    "            if html[-5:] == '.html':\n",
    "                with open(os.path.join(dir_path, html),\"r\", errors=\"ignore\") as f:\n",
    "                    # parse the file and write the data to a row.\n",
    "                    wr.writerow(get_metadata(f))"
   ]
  },
  {
   "cell_type": "code",
   "execution_count": 5,
   "metadata": {},
   "outputs": [
    {
     "ename": "AttributeError",
     "evalue": "'NoneType' object has no attribute 'group'",
     "output_type": "error",
     "traceback": [
      "\u001b[0;31m---------------------------------------------------------------------------\u001b[0m",
      "\u001b[0;31mAttributeError\u001b[0m                            Traceback (most recent call last)",
      "\u001b[0;32m<ipython-input-5-cbcd12a94534>\u001b[0m in \u001b[0;36m<module>\u001b[0;34m()\u001b[0m\n\u001b[0;32m----> 1\u001b[0;31m \u001b[0mto_csv\u001b[0m\u001b[0;34m(\u001b[0m\u001b[0;34m\"./done\"\u001b[0m\u001b[0;34m,\u001b[0m\u001b[0;34m\"metadata-20.csv\"\u001b[0m\u001b[0;34m)\u001b[0m\u001b[0;34m\u001b[0m\u001b[0m\n\u001b[0m",
      "\u001b[0;32m<ipython-input-4-6d43453682d0>\u001b[0m in \u001b[0;36mto_csv\u001b[0;34m(dir_path, output_csv)\u001b[0m\n\u001b[1;32m     11\u001b[0m                 \u001b[0;32mwith\u001b[0m \u001b[0mopen\u001b[0m\u001b[0;34m(\u001b[0m\u001b[0mos\u001b[0m\u001b[0;34m.\u001b[0m\u001b[0mpath\u001b[0m\u001b[0;34m.\u001b[0m\u001b[0mjoin\u001b[0m\u001b[0;34m(\u001b[0m\u001b[0mdir_path\u001b[0m\u001b[0;34m,\u001b[0m \u001b[0mhtml\u001b[0m\u001b[0;34m)\u001b[0m\u001b[0;34m,\u001b[0m\u001b[0;34m\"r\"\u001b[0m\u001b[0;34m,\u001b[0m \u001b[0merrors\u001b[0m\u001b[0;34m=\u001b[0m\u001b[0;34m\"ignore\"\u001b[0m\u001b[0;34m)\u001b[0m \u001b[0;32mas\u001b[0m \u001b[0mf\u001b[0m\u001b[0;34m:\u001b[0m\u001b[0;34m\u001b[0m\u001b[0m\n\u001b[1;32m     12\u001b[0m                     \u001b[0;31m# parse the file and write the data to a row.\u001b[0m\u001b[0;34m\u001b[0m\u001b[0;34m\u001b[0m\u001b[0m\n\u001b[0;32m---> 13\u001b[0;31m                     \u001b[0mwr\u001b[0m\u001b[0;34m.\u001b[0m\u001b[0mwriterow\u001b[0m\u001b[0;34m(\u001b[0m\u001b[0mget_metadata\u001b[0m\u001b[0;34m(\u001b[0m\u001b[0mf\u001b[0m\u001b[0;34m)\u001b[0m\u001b[0;34m)\u001b[0m\u001b[0;34m\u001b[0m\u001b[0m\n\u001b[0m",
      "\u001b[0;32m<ipython-input-2-947bae5ae637>\u001b[0m in \u001b[0;36mget_metadata\u001b[0;34m(the_file)\u001b[0m\n\u001b[1;32m     30\u001b[0m         \u001b[0mfiltered\u001b[0m \u001b[0;34m=\u001b[0m \u001b[0mfilter\u001b[0m\u001b[0;34m(\u001b[0m\u001b[0mre\u001b[0m\u001b[0;34m.\u001b[0m\u001b[0mcompile\u001b[0m\u001b[0;34m(\u001b[0m\u001b[0me\u001b[0m\u001b[0;34m)\u001b[0m\u001b[0;34m.\u001b[0m\u001b[0mmatch\u001b[0m\u001b[0;34m,\u001b[0m \u001b[0mtalks_listed\u001b[0m\u001b[0;34m)\u001b[0m\u001b[0;34m\u001b[0m\u001b[0m\n\u001b[1;32m     31\u001b[0m         \u001b[0mindexed\u001b[0m \u001b[0;34m=\u001b[0m \u001b[0;34m\"\"\u001b[0m\u001b[0;34m.\u001b[0m\u001b[0mjoin\u001b[0m\u001b[0;34m(\u001b[0m\u001b[0mfiltered\u001b[0m\u001b[0;34m)\u001b[0m\u001b[0;34m.\u001b[0m\u001b[0msplit\u001b[0m\u001b[0;34m(\u001b[0m\u001b[0;34m\":\"\u001b[0m\u001b[0;34m)\u001b[0m\u001b[0;34m[\u001b[0m\u001b[0;36m1\u001b[0m\u001b[0;34m]\u001b[0m\u001b[0;34m\u001b[0m\u001b[0m\n\u001b[0;32m---> 32\u001b[0;31m         \u001b[0mdate\u001b[0m \u001b[0;34m=\u001b[0m \u001b[0mre\u001b[0m\u001b[0;34m.\u001b[0m\u001b[0msearch\u001b[0m\u001b[0;34m(\u001b[0m\u001b[0;34m'[0-9]{10}'\u001b[0m\u001b[0;34m,\u001b[0m \u001b[0mindexed\u001b[0m\u001b[0;34m)\u001b[0m\u001b[0;34m.\u001b[0m\u001b[0mgroup\u001b[0m\u001b[0;34m(\u001b[0m\u001b[0;36m0\u001b[0m\u001b[0;34m)\u001b[0m\u001b[0;34m\u001b[0m\u001b[0m\n\u001b[0m\u001b[1;32m     33\u001b[0m         \u001b[0mmatches\u001b[0m\u001b[0;34m.\u001b[0m\u001b[0mappend\u001b[0m\u001b[0;34m(\u001b[0m\u001b[0mdate\u001b[0m\u001b[0;34m)\u001b[0m\u001b[0;34m\u001b[0m\u001b[0m\n\u001b[1;32m     34\u001b[0m     \u001b[0mfilmed\u001b[0m \u001b[0;34m=\u001b[0m \u001b[0mdatetime\u001b[0m\u001b[0;34m.\u001b[0m\u001b[0mutcfromtimestamp\u001b[0m\u001b[0;34m(\u001b[0m\u001b[0mfloat\u001b[0m\u001b[0;34m(\u001b[0m\u001b[0mmatches\u001b[0m\u001b[0;34m[\u001b[0m\u001b[0;36m0\u001b[0m\u001b[0;34m]\u001b[0m\u001b[0;34m)\u001b[0m\u001b[0;34m)\u001b[0m\u001b[0;34m.\u001b[0m\u001b[0mstrftime\u001b[0m\u001b[0;34m(\u001b[0m\u001b[0;34m'%Y-%m-%d'\u001b[0m\u001b[0;34m)\u001b[0m\u001b[0;34m\u001b[0m\u001b[0m\n",
      "\u001b[0;31mAttributeError\u001b[0m: 'NoneType' object has no attribute 'group'"
     ]
    }
   ],
   "source": [
    "to_csv(\"./done\",\"metadata-20.csv\")"
   ]
  },
  {
   "cell_type": "markdown",
   "metadata": {},
   "source": [
    "These are alternate ways to open files in Python that may solve various reading errors. "
   ]
  },
  {
   "cell_type": "code",
   "execution_count": null,
   "metadata": {
    "collapsed": true
   },
   "outputs": [],
   "source": [
    "def to_csv_codecs(dir_path, output_csv):\n",
    "    \"\"\"Requires: import csv, os, codecs\"\"\"\n",
    "    import csv\n",
    "    import os\n",
    "    import codecs\n",
    "    # OPEN file to which to write:\n",
    "    with open(output_csv, \"w\") as out:\n",
    "        # create csv.writer.\n",
    "        wr = csv.writer(out)\n",
    "        # write our headers.\n",
    "        wr.writerow([\"slug\", \"view_count\", \"event\", \"filmed\", \"published\"])\n",
    "        # get all our html files.\n",
    "        for html in os.listdir(dir_path):\n",
    "            with codecs.open(os.path.join(dir_path, html),\"r\", \n",
    "                             encoding='utf-8', errors='ignore') as f:\n",
    "                # parse the file and write the data to a row.\n",
    "                wr.writerow(get_metadata(f))\n",
    "                \n",
    "def to_csv_io(dir_path, output_csv):\n",
    "    # LOAD required modules\n",
    "    import csv\n",
    "    import os\n",
    "    import io\n",
    "    # OPEN file to which to write:\n",
    "    with open(output_csv, \"w\") as out:\n",
    "        # create csv.writer.\n",
    "        wr = csv.writer(out)\n",
    "        # write our headers.\n",
    "        wr.writerow([\"slug\", \"view_count\", \"event\", \"filmed\", \"published\"])\n",
    "        # get all our html files.\n",
    "        for html in os.listdir(dir_path):\n",
    "            with io.open(os.path.join(dir_path, html),\"r\") as f:\n",
    "                # parse the file and write the data to a row.\n",
    "                wr.writerow(get_metadata(f))"
   ]
  }
 ],
 "metadata": {
  "kernelspec": {
   "display_name": "Python 3",
   "language": "python",
   "name": "python3"
  },
  "language_info": {
   "codemirror_mode": {
    "name": "ipython",
    "version": 3
   },
   "file_extension": ".py",
   "mimetype": "text/x-python",
   "name": "python",
   "nbconvert_exporter": "python",
   "pygments_lexer": "ipython3",
   "version": "3.4.6"
  }
 },
 "nbformat": 4,
 "nbformat_minor": 2
}
